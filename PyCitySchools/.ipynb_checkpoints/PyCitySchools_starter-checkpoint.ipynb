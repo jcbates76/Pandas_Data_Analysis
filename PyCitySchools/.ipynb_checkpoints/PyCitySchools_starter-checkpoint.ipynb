{
 "cells": [
  {
   "cell_type": "markdown",
   "metadata": {},
   "source": [
    "### Note\n",
    "* Instructions have been included for each segment. You do not have to follow them exactly, but they are included to help you think through the steps."
   ]
  },
  {
   "cell_type": "code",
   "execution_count": 31,
   "metadata": {},
   "outputs": [],
   "source": [
    "# Dependencies and Setup\n",
    "import pandas as pd\n",
    "import os"
   ]
  },
  {
   "cell_type": "code",
   "execution_count": 32,
   "metadata": {},
   "outputs": [],
   "source": [
    "# File to Load (Remember to Change These)\n",
    "school_data_to_load = os.path.join(\"Resources\", \"schools_complete.csv\")\n",
    "student_data_to_load = os.path.join(\"Resources\", \"students_complete.csv\")"
   ]
  },
  {
   "cell_type": "code",
   "execution_count": 33,
   "metadata": {},
   "outputs": [],
   "source": [
    "# Read School and Student Data File and store into Pandas DataFrames\n",
    "school_data = pd.read_csv(school_data_to_load)\n",
    "student_data = pd.read_csv(student_data_to_load)"
   ]
  },
  {
   "cell_type": "code",
   "execution_count": 34,
   "metadata": {},
   "outputs": [],
   "source": [
    "#school_data.head(1) #can delete after"
   ]
  },
  {
   "cell_type": "code",
   "execution_count": 35,
   "metadata": {},
   "outputs": [],
   "source": [
    "#student_data.head(1) #can delete after"
   ]
  },
  {
   "cell_type": "code",
   "execution_count": 37,
   "metadata": {},
   "outputs": [],
   "source": [
    "# Combine the two data sets into a single dataset.  \n",
    "school_data_complete = pd.merge(student_data, school_data, how=\"left\", on=[\"school_name\", \"school_name\"])\n",
    "#school_data_complete.head() #can delete after"
   ]
  },
  {
   "cell_type": "markdown",
   "metadata": {},
   "source": [
    "## District Summary\n",
    "\n",
    "* Calculate the total number of schools\n",
    "\n",
    "* Calculate the total number of students\n",
    "\n",
    "* Calculate the total budget\n",
    "\n",
    "* Calculate the average math score \n",
    "\n",
    "* Calculate the average reading score\n",
    "\n",
    "* Calculate the percentage of students with a passing math score (70 or greater)\n",
    "\n",
    "* Calculate the percentage of students with a passing reading score (70 or greater)\n",
    "\n",
    "* Calculate the percentage of students who passed math **and** reading (% Overall Passing)\n",
    "\n",
    "* Create a dataframe to hold the above results\n",
    "\n",
    "* Optional: give the displayed data cleaner formatting"
   ]
  },
  {
   "cell_type": "code",
   "execution_count": 7,
   "metadata": {},
   "outputs": [
    {
     "data": {
      "text/plain": [
       "Student ID       39170\n",
       "student_name     39170\n",
       "gender           39170\n",
       "grade            39170\n",
       "school_name      39170\n",
       "reading_score    39170\n",
       "math_score       39170\n",
       "School ID        39170\n",
       "type             39170\n",
       "size             39170\n",
       "budget           39170\n",
       "dtype: int64"
      ]
     },
     "execution_count": 7,
     "metadata": {},
     "output_type": "execute_result"
    }
   ],
   "source": [
    "# Verify the data merged is clean.  \n",
    "school_data_complete.count()"
   ]
  },
  {
   "cell_type": "code",
   "execution_count": 38,
   "metadata": {},
   "outputs": [],
   "source": [
    "# Calculate the total number of schools\n",
    "#school_count = len(school_data_complete[\"school_name\"].unique())\n",
    "#school_count\n",
    "#print(school_count)\n",
    "\n",
    "# Calculate the total number of schools\n",
    "school_count_a = float(len(school_data))\n",
    "#school_count_a\n",
    "#print(school_count_a)"
   ]
  },
  {
   "cell_type": "code",
   "execution_count": 39,
   "metadata": {},
   "outputs": [],
   "source": [
    "# Calculate the number of students\n",
    "#student_count = len(school_data_complete[\"student_name\"].unique())\n",
    "#student_count\n",
    "#print(student_count)\n",
    "\n",
    "# Calculate the number of students\n",
    "student_count_a = float(school_data[\"size\"].sum())\n",
    "#print(student_count_a)"
   ]
  },
  {
   "cell_type": "code",
   "execution_count": 40,
   "metadata": {},
   "outputs": [],
   "source": [
    "# Calculate the total budget\n",
    "total_budget = float(school_data[\"budget\"].sum())\n",
    "#total_budget"
   ]
  },
  {
   "cell_type": "code",
   "execution_count": 41,
   "metadata": {},
   "outputs": [],
   "source": [
    "# Calculate the avergae math score\n",
    "avg_math = float(student_data[\"math_score\"].mean())\n",
    "#avg_math"
   ]
  },
  {
   "cell_type": "code",
   "execution_count": 42,
   "metadata": {},
   "outputs": [],
   "source": [
    "# Calculate the avergae reading score\n",
    "avg_reading = float(student_data[\"reading_score\"].mean())\n",
    "#avg_reading"
   ]
  },
  {
   "cell_type": "code",
   "execution_count": 43,
   "metadata": {},
   "outputs": [],
   "source": [
    "# Calculate the percentage with a passing math score (70 or higher)\n",
    "# Calculate the percentage with a passing reading score (70 or higher)\n",
    "# Create the bins in which Data will be held\n",
    "bins = [0, 69.9, 100]\n",
    "\n",
    "# Create the names for the five bins\n",
    "group_names = [\"Fail\", \"Pass\"]\n",
    "\n",
    "# Cut the DataFrame into the groups identified and place in a new column\n",
    "student_data[\"math_score_summary\"] = pd.cut(student_data[\"math_score\"], bins, labels=group_names, include_lowest=True)\n",
    "student_data[\"reading_score_summary\"] = pd.cut(student_data[\"reading_score\"], bins, labels=group_names, include_lowest=True)\n",
    "#student_data.head()"
   ]
  },
  {
   "cell_type": "code",
   "execution_count": 44,
   "metadata": {},
   "outputs": [],
   "source": [
    "# Create a grouping based off the summary of the math score\n",
    "student_data_math = student_data.groupby(\"math_score_summary\")\n",
    "student_data_reading = student_data.groupby(\"reading_score_summary\")\n",
    "\n",
    "# Calculate the % of pass and fail\n",
    "student_math_summary = student_data_math[\"math_score_summary\"].count()\n",
    "student_reading_summary = student_data_reading[\"reading_score_summary\"].count()\n",
    "student_math_summary_df = pd.DataFrame((student_math_summary/student_count_a)*100)\n",
    "student_reading_summary_df = pd.DataFrame((student_reading_summary/student_count_a)*100)\n",
    "\n",
    "# Store the passing percentages\n",
    "student_math_summary_pass = float(student_math_summary_df.loc[\"Pass\", \"math_score_summary\"])\n",
    "student_reading_summary_pass = float(student_reading_summary_df.loc[\"Pass\", \"reading_score_summary\"])\n",
    "#print(student_math_summary_pass)\n",
    "#print(student_reading_summary_pass)\n",
    "\n",
    "# Print the dataframes\n",
    "#print(student_math_summary_df)\n",
    "#print(student_reading_summary_df)"
   ]
  },
  {
   "cell_type": "code",
   "execution_count": 46,
   "metadata": {},
   "outputs": [],
   "source": [
    "# Calculate the percentage of students who passed both the math and reading\n",
    "\n",
    "# Define a procedure to compare the math and reading scores and output a Pass or Fail for the total score\n",
    "def compare(row):\n",
    "    if row[\"math_score_summary\"] == \"Pass\" and row[\"reading_score_summary\"] == \"Pass\":\n",
    "        total_score = \"Pass\"\n",
    "    else:\n",
    "        total_score = \"Fail\"\n",
    "    return total_score\n",
    "\n",
    "# Apply the procedure to the student_data DataFrame\n",
    "student_data[\"total_score_summary\"] = student_data.apply(compare, axis=1)\n",
    "#student_data.head()\n",
    "\n",
    "# Create a grouping bassed off the summary of the total score\n",
    "student_data_total = student_data.groupby(\"total_score_summary\")\n",
    "\n",
    "#Calculate the % of pass and fail\n",
    "student_total_summary = student_data_total[\"total_score_summary\"].count()\n",
    "student_total_summary_df = pd.DataFrame((student_total_summary/student_count_a)*100)\n",
    "\n",
    "# Store the passing percentage\n",
    "student_total_summary_pass = float(student_total_summary_df.loc[\"Pass\", \"total_score_summary\"])\n",
    "#print(student_total_summary_pass)\n",
    "\n",
    "# Print the dataframe\n",
    "#print(student_total_summary_df)"
   ]
  },
  {
   "cell_type": "code",
   "execution_count": 47,
   "metadata": {},
   "outputs": [],
   "source": [
    "# Create a district summary DataFrame with the results\n",
    "district_summary_df = pd.DataFrame({\n",
    "    \"Total # of Schools\": [school_count_a],\n",
    "    \"Total # of Students\":[student_count_a],\n",
    "    \"Total Budget\": [total_budget],\n",
    "    \"Average Math Score\": [avg_math], \n",
    "    \"Average Reading Score\": [avg_reading],\n",
    "    \"% of Students Passing Math\": [student_math_summary_pass], \n",
    "    \"% of Students Passing Reading\": [student_reading_summary_pass],\n",
    "    \"% of Students Passing Both\": [student_total_summary_pass]\n",
    "})\n",
    "#district_summary_df"
   ]
  },
  {
   "cell_type": "code",
   "execution_count": 48,
   "metadata": {},
   "outputs": [
    {
     "data": {
      "text/html": [
       "<div>\n",
       "<style scoped>\n",
       "    .dataframe tbody tr th:only-of-type {\n",
       "        vertical-align: middle;\n",
       "    }\n",
       "\n",
       "    .dataframe tbody tr th {\n",
       "        vertical-align: top;\n",
       "    }\n",
       "\n",
       "    .dataframe thead th {\n",
       "        text-align: right;\n",
       "    }\n",
       "</style>\n",
       "<table border=\"1\" class=\"dataframe\">\n",
       "  <thead>\n",
       "    <tr style=\"text-align: right;\">\n",
       "      <th></th>\n",
       "      <th>Total # of Schools</th>\n",
       "      <th>Total # of Students</th>\n",
       "      <th>Total Budget</th>\n",
       "      <th>Average Math Score</th>\n",
       "      <th>Average Reading Score</th>\n",
       "      <th>% of Students Passing Math</th>\n",
       "      <th>% of Students Passing Reading</th>\n",
       "      <th>% of Students Passing Both</th>\n",
       "    </tr>\n",
       "  </thead>\n",
       "  <tbody>\n",
       "    <tr>\n",
       "      <th>0</th>\n",
       "      <td>15</td>\n",
       "      <td>39,170</td>\n",
       "      <td>$24,649,428.00</td>\n",
       "      <td>78.99</td>\n",
       "      <td>81.88</td>\n",
       "      <td>74.98%</td>\n",
       "      <td>85.81%</td>\n",
       "      <td>65.17%</td>\n",
       "    </tr>\n",
       "  </tbody>\n",
       "</table>\n",
       "</div>"
      ],
      "text/plain": [
       "  Total # of Schools Total # of Students    Total Budget Average Math Score  \\\n",
       "0                 15              39,170  $24,649,428.00              78.99   \n",
       "\n",
       "  Average Reading Score % of Students Passing Math  \\\n",
       "0                 81.88                     74.98%   \n",
       "\n",
       "  % of Students Passing Reading % of Students Passing Both  \n",
       "0                        85.81%                     65.17%  "
      ]
     },
     "execution_count": 48,
     "metadata": {},
     "output_type": "execute_result"
    }
   ],
   "source": [
    "# Format the data in the summary DataFrame\n",
    "district_summary_df[\"Total # of Schools\"] = district_summary_df[\"Total # of Schools\"].astype(float).map(\"{:,.0f}\".format)\n",
    "district_summary_df[\"Total # of Students\"] = district_summary_df[\"Total # of Students\"].astype(float).map(\"{:,.0f}\".format)\n",
    "district_summary_df[\"Total Budget\"] = district_summary_df[\"Total Budget\"].astype(float).map(\"${:,.2f}\".format)\n",
    "district_summary_df[\"Average Math Score\"] = district_summary_df[\"Average Math Score\"].astype(float).map(\"{:.2f}\".format)\n",
    "district_summary_df[\"Average Reading Score\"] = district_summary_df[\"Average Reading Score\"].astype(float).map(\"{:.2f}\".format)\n",
    "district_summary_df[\"% of Students Passing Math\"] = district_summary_df[\"% of Students Passing Math\"].astype(float).map(\"{:.2f}%\".format)\n",
    "district_summary_df[\"% of Students Passing Reading\"] = district_summary_df[\"% of Students Passing Reading\"].astype(float).map(\"{:.2f}%\".format)\n",
    "district_summary_df[\"% of Students Passing Both\"] = district_summary_df[\"% of Students Passing Both\"].astype(float).map(\"{:.2f}%\".format)\n",
    "district_summary_df"
   ]
  },
  {
   "cell_type": "markdown",
   "metadata": {},
   "source": [
    "## School Summary"
   ]
  },
  {
   "cell_type": "markdown",
   "metadata": {},
   "source": [
    "* Create an overview table that summarizes key metrics about each school, including:\n",
    "  * School Name\n",
    "  * School Type\n",
    "  * Total Students\n",
    "  * Total School Budget\n",
    "  * Per Student Budget\n",
    "  * Average Math Score\n",
    "  * Average Reading Score\n",
    "  * % Passing Math\n",
    "  * % Passing Reading\n",
    "  * % Overall Passing (The percentage of students that passed math **and** reading.)\n",
    "  \n",
    "* Create a dataframe to hold the above results"
   ]
  },
  {
   "cell_type": "code",
   "execution_count": 28,
   "metadata": {},
   "outputs": [],
   "source": [
    "# Generate a count of the students per school based on the value counts per school, create a DataFrame, and rename the columns\n",
    "school_list = school_data_complete[\"school_name\"].value_counts()\n",
    "school_list_df = pd.DataFrame(school_list)\n",
    "school_list_df = school_list_df.rename(columns={\"school_name\": \"Total Students\"})\n",
    "\n",
    "# Reset the index of the DataFrame to do the merge based on school name to pull in the students in the school and the budget of the school\n",
    "school_list_df = school_list_df.reset_index()\n",
    "school_list_df = school_list_df.rename(columns={\"index\": \"School Name\"})\n",
    "school_list_summary_df = school_list_df.merge(school_data, left_on=\"School Name\", right_on=\"school_name\")\n",
    "\n",
    "# Delete the old School ID and the duplicate school name\n",
    "school_list_summary_df = school_list_summary_df.drop(columns=[\"School ID\", \"school_name\", \"size\"])\n",
    "\n",
    "# Calculate the Per Student Budget\n",
    "school_list_summary_df[\"Per Student Budget\"] = school_list_summary_df[\"budget\"]/school_list_summary_df[\"Total Students\"]"
   ]
  },
  {
   "cell_type": "code",
   "execution_count": 29,
   "metadata": {},
   "outputs": [],
   "source": [
    "# Replace the Pass/Fail with a 1 for Pass and 0 for Fail in order to sum the students in each school who passed each subject.\n",
    "student_data_adj = student_data\n",
    "student_data_adj = student_data_adj.replace(\"Pass\", 1)\n",
    "student_data_adj = student_data_adj.replace(\"Fail\", 0)\n",
    "\n",
    "# Change the data type of the score summaries into integers so that statistical functions can be run.\n",
    "student_data_adj = student_data_adj.astype({\"math_score_summary\": int, \"reading_score_summary\": int, \"total_score_summary\": int})"
   ]
  },
  {
   "cell_type": "code",
   "execution_count": 30,
   "metadata": {},
   "outputs": [
    {
     "data": {
      "text/html": [
       "<div>\n",
       "<style scoped>\n",
       "    .dataframe tbody tr th:only-of-type {\n",
       "        vertical-align: middle;\n",
       "    }\n",
       "\n",
       "    .dataframe tbody tr th {\n",
       "        vertical-align: top;\n",
       "    }\n",
       "\n",
       "    .dataframe thead th {\n",
       "        text-align: right;\n",
       "    }\n",
       "</style>\n",
       "<table border=\"1\" class=\"dataframe\">\n",
       "  <thead>\n",
       "    <tr style=\"text-align: right;\">\n",
       "      <th></th>\n",
       "      <th>Total Students</th>\n",
       "      <th>School Type</th>\n",
       "      <th>Total School Budget</th>\n",
       "      <th>Per Student Budget</th>\n",
       "      <th>Avg Math Score</th>\n",
       "      <th>Avg Reading Score</th>\n",
       "      <th>% Passing Math</th>\n",
       "      <th>% Passing Reading</th>\n",
       "      <th>% Passing Both</th>\n",
       "    </tr>\n",
       "    <tr>\n",
       "      <th>School Name</th>\n",
       "      <th></th>\n",
       "      <th></th>\n",
       "      <th></th>\n",
       "      <th></th>\n",
       "      <th></th>\n",
       "      <th></th>\n",
       "      <th></th>\n",
       "      <th></th>\n",
       "      <th></th>\n",
       "    </tr>\n",
       "  </thead>\n",
       "  <tbody>\n",
       "    <tr>\n",
       "      <th>Bailey High School</th>\n",
       "      <td>4,976</td>\n",
       "      <td>District</td>\n",
       "      <td>$3,124,928.00</td>\n",
       "      <td>$628.00</td>\n",
       "      <td>77.05</td>\n",
       "      <td>81.03</td>\n",
       "      <td>66.68%</td>\n",
       "      <td>81.93%</td>\n",
       "      <td>54.64%</td>\n",
       "    </tr>\n",
       "    <tr>\n",
       "      <th>Johnson High School</th>\n",
       "      <td>4,761</td>\n",
       "      <td>District</td>\n",
       "      <td>$3,094,650.00</td>\n",
       "      <td>$650.00</td>\n",
       "      <td>77.07</td>\n",
       "      <td>80.97</td>\n",
       "      <td>66.06%</td>\n",
       "      <td>81.22%</td>\n",
       "      <td>53.54%</td>\n",
       "    </tr>\n",
       "    <tr>\n",
       "      <th>Hernandez High School</th>\n",
       "      <td>4,635</td>\n",
       "      <td>District</td>\n",
       "      <td>$3,022,020.00</td>\n",
       "      <td>$652.00</td>\n",
       "      <td>77.29</td>\n",
       "      <td>80.93</td>\n",
       "      <td>66.75%</td>\n",
       "      <td>80.86%</td>\n",
       "      <td>53.53%</td>\n",
       "    </tr>\n",
       "    <tr>\n",
       "      <th>Rodriguez High School</th>\n",
       "      <td>3,999</td>\n",
       "      <td>District</td>\n",
       "      <td>$2,547,363.00</td>\n",
       "      <td>$637.00</td>\n",
       "      <td>76.84</td>\n",
       "      <td>80.74</td>\n",
       "      <td>66.37%</td>\n",
       "      <td>80.22%</td>\n",
       "      <td>52.99%</td>\n",
       "    </tr>\n",
       "    <tr>\n",
       "      <th>Figueroa High School</th>\n",
       "      <td>2,949</td>\n",
       "      <td>District</td>\n",
       "      <td>$1,884,411.00</td>\n",
       "      <td>$639.00</td>\n",
       "      <td>76.71</td>\n",
       "      <td>81.16</td>\n",
       "      <td>65.99%</td>\n",
       "      <td>80.74%</td>\n",
       "      <td>53.20%</td>\n",
       "    </tr>\n",
       "    <tr>\n",
       "      <th>Huang High School</th>\n",
       "      <td>2,917</td>\n",
       "      <td>District</td>\n",
       "      <td>$1,910,635.00</td>\n",
       "      <td>$655.00</td>\n",
       "      <td>76.63</td>\n",
       "      <td>81.18</td>\n",
       "      <td>65.68%</td>\n",
       "      <td>81.32%</td>\n",
       "      <td>53.51%</td>\n",
       "    </tr>\n",
       "    <tr>\n",
       "      <th>Ford High School</th>\n",
       "      <td>2,739</td>\n",
       "      <td>District</td>\n",
       "      <td>$1,763,916.00</td>\n",
       "      <td>$644.00</td>\n",
       "      <td>77.10</td>\n",
       "      <td>80.75</td>\n",
       "      <td>68.31%</td>\n",
       "      <td>79.30%</td>\n",
       "      <td>54.29%</td>\n",
       "    </tr>\n",
       "    <tr>\n",
       "      <th>Wilson High School</th>\n",
       "      <td>2,283</td>\n",
       "      <td>Charter</td>\n",
       "      <td>$1,319,574.00</td>\n",
       "      <td>$578.00</td>\n",
       "      <td>83.27</td>\n",
       "      <td>83.99</td>\n",
       "      <td>93.87%</td>\n",
       "      <td>96.54%</td>\n",
       "      <td>90.58%</td>\n",
       "    </tr>\n",
       "    <tr>\n",
       "      <th>Cabrera High School</th>\n",
       "      <td>1,858</td>\n",
       "      <td>Charter</td>\n",
       "      <td>$1,081,356.00</td>\n",
       "      <td>$582.00</td>\n",
       "      <td>83.06</td>\n",
       "      <td>83.98</td>\n",
       "      <td>94.13%</td>\n",
       "      <td>97.04%</td>\n",
       "      <td>91.33%</td>\n",
       "    </tr>\n",
       "    <tr>\n",
       "      <th>Wright High School</th>\n",
       "      <td>1,800</td>\n",
       "      <td>Charter</td>\n",
       "      <td>$1,049,400.00</td>\n",
       "      <td>$583.00</td>\n",
       "      <td>83.68</td>\n",
       "      <td>83.95</td>\n",
       "      <td>93.33%</td>\n",
       "      <td>96.61%</td>\n",
       "      <td>90.33%</td>\n",
       "    </tr>\n",
       "    <tr>\n",
       "      <th>Shelton High School</th>\n",
       "      <td>1,761</td>\n",
       "      <td>Charter</td>\n",
       "      <td>$1,056,600.00</td>\n",
       "      <td>$600.00</td>\n",
       "      <td>83.36</td>\n",
       "      <td>83.73</td>\n",
       "      <td>93.87%</td>\n",
       "      <td>95.85%</td>\n",
       "      <td>89.89%</td>\n",
       "    </tr>\n",
       "    <tr>\n",
       "      <th>Thomas High School</th>\n",
       "      <td>1,635</td>\n",
       "      <td>Charter</td>\n",
       "      <td>$1,043,130.00</td>\n",
       "      <td>$638.00</td>\n",
       "      <td>83.42</td>\n",
       "      <td>83.85</td>\n",
       "      <td>93.27%</td>\n",
       "      <td>97.31%</td>\n",
       "      <td>90.95%</td>\n",
       "    </tr>\n",
       "    <tr>\n",
       "      <th>Griffin High School</th>\n",
       "      <td>1,468</td>\n",
       "      <td>Charter</td>\n",
       "      <td>$917,500.00</td>\n",
       "      <td>$625.00</td>\n",
       "      <td>83.35</td>\n",
       "      <td>83.82</td>\n",
       "      <td>93.39%</td>\n",
       "      <td>97.14%</td>\n",
       "      <td>90.60%</td>\n",
       "    </tr>\n",
       "    <tr>\n",
       "      <th>Pena High School</th>\n",
       "      <td>962</td>\n",
       "      <td>Charter</td>\n",
       "      <td>$585,858.00</td>\n",
       "      <td>$609.00</td>\n",
       "      <td>83.84</td>\n",
       "      <td>84.04</td>\n",
       "      <td>94.59%</td>\n",
       "      <td>95.95%</td>\n",
       "      <td>90.54%</td>\n",
       "    </tr>\n",
       "    <tr>\n",
       "      <th>Holden High School</th>\n",
       "      <td>427</td>\n",
       "      <td>Charter</td>\n",
       "      <td>$248,087.00</td>\n",
       "      <td>$581.00</td>\n",
       "      <td>83.80</td>\n",
       "      <td>83.81</td>\n",
       "      <td>92.51%</td>\n",
       "      <td>96.25%</td>\n",
       "      <td>89.23%</td>\n",
       "    </tr>\n",
       "  </tbody>\n",
       "</table>\n",
       "</div>"
      ],
      "text/plain": [
       "                      Total Students School Type Total School Budget  \\\n",
       "School Name                                                            \n",
       "Bailey High School             4,976    District       $3,124,928.00   \n",
       "Johnson High School            4,761    District       $3,094,650.00   \n",
       "Hernandez High School          4,635    District       $3,022,020.00   \n",
       "Rodriguez High School          3,999    District       $2,547,363.00   \n",
       "Figueroa High School           2,949    District       $1,884,411.00   \n",
       "Huang High School              2,917    District       $1,910,635.00   \n",
       "Ford High School               2,739    District       $1,763,916.00   \n",
       "Wilson High School             2,283     Charter       $1,319,574.00   \n",
       "Cabrera High School            1,858     Charter       $1,081,356.00   \n",
       "Wright High School             1,800     Charter       $1,049,400.00   \n",
       "Shelton High School            1,761     Charter       $1,056,600.00   \n",
       "Thomas High School             1,635     Charter       $1,043,130.00   \n",
       "Griffin High School            1,468     Charter         $917,500.00   \n",
       "Pena High School                 962     Charter         $585,858.00   \n",
       "Holden High School               427     Charter         $248,087.00   \n",
       "\n",
       "                      Per Student Budget Avg Math Score Avg Reading Score  \\\n",
       "School Name                                                                 \n",
       "Bailey High School               $628.00          77.05             81.03   \n",
       "Johnson High School              $650.00          77.07             80.97   \n",
       "Hernandez High School            $652.00          77.29             80.93   \n",
       "Rodriguez High School            $637.00          76.84             80.74   \n",
       "Figueroa High School             $639.00          76.71             81.16   \n",
       "Huang High School                $655.00          76.63             81.18   \n",
       "Ford High School                 $644.00          77.10             80.75   \n",
       "Wilson High School               $578.00          83.27             83.99   \n",
       "Cabrera High School              $582.00          83.06             83.98   \n",
       "Wright High School               $583.00          83.68             83.95   \n",
       "Shelton High School              $600.00          83.36             83.73   \n",
       "Thomas High School               $638.00          83.42             83.85   \n",
       "Griffin High School              $625.00          83.35             83.82   \n",
       "Pena High School                 $609.00          83.84             84.04   \n",
       "Holden High School               $581.00          83.80             83.81   \n",
       "\n",
       "                      % Passing Math % Passing Reading % Passing Both  \n",
       "School Name                                                            \n",
       "Bailey High School            66.68%            81.93%         54.64%  \n",
       "Johnson High School           66.06%            81.22%         53.54%  \n",
       "Hernandez High School         66.75%            80.86%         53.53%  \n",
       "Rodriguez High School         66.37%            80.22%         52.99%  \n",
       "Figueroa High School          65.99%            80.74%         53.20%  \n",
       "Huang High School             65.68%            81.32%         53.51%  \n",
       "Ford High School              68.31%            79.30%         54.29%  \n",
       "Wilson High School            93.87%            96.54%         90.58%  \n",
       "Cabrera High School           94.13%            97.04%         91.33%  \n",
       "Wright High School            93.33%            96.61%         90.33%  \n",
       "Shelton High School           93.87%            95.85%         89.89%  \n",
       "Thomas High School            93.27%            97.31%         90.95%  \n",
       "Griffin High School           93.39%            97.14%         90.60%  \n",
       "Pena High School              94.59%            95.95%         90.54%  \n",
       "Holden High School            92.51%            96.25%         89.23%  "
      ]
     },
     "execution_count": 30,
     "metadata": {},
     "output_type": "execute_result"
    }
   ],
   "source": [
    "# Establish a grouping of the student data by school name\n",
    "school_grade_summary = student_data_adj.groupby([\"school_name\"])\n",
    "\n",
    "# Determine the average math score by school.  Rename the column.\n",
    "school_math_avg = pd.DataFrame(school_grade_summary[\"math_score\"].mean())\n",
    "school_math_avg = school_math_avg.rename(columns={\"math_score\": \"Avg Math Score\"})\n",
    "\n",
    "# Determine how many students passed math\n",
    "school_math_summary = pd.DataFrame(school_grade_summary[\"math_score_summary\"].sum())\n",
    "\n",
    "# Determine the average reading score by school.  Rename the column.\n",
    "school_reading_avg = pd.DataFrame(school_grade_summary[\"reading_score\"].mean())\n",
    "school_reading_avg = school_reading_avg.rename(columns={\"reading_score\": \"Avg Reading Score\"})\n",
    "\n",
    "# Determine how many students passed reading\n",
    "school_reading_summary = pd.DataFrame(school_grade_summary[\"reading_score_summary\"].sum())\n",
    "\n",
    "# Determine how many students passed both math and reading\n",
    "school_total_summary = pd.DataFrame(school_grade_summary[\"total_score_summary\"].sum())\n",
    "\n",
    "# Merge the above analysis (average math, average reading, total passing math, total passing reading, and total passing both into a single DataFrame\n",
    "school_grade_sumamry_df = school_math_avg.merge(school_reading_avg, on=\"school_name\")\n",
    "school_grade_sumamry_df = school_grade_sumamry_df.merge(school_math_summary, on=\"school_name\")\n",
    "school_grade_sumamry_df = school_grade_sumamry_df.merge(school_reading_summary, on=\"school_name\")\n",
    "school_grade_sumamry_df = school_grade_sumamry_df.merge(school_total_summary, on=\"school_name\")\n",
    "\n",
    "# Reset the index of the DataFrame to allow the school name to be a column.  Rename the column.\n",
    "school_grade_sumamry_df = school_grade_sumamry_df.reset_index()\n",
    "school_grade_sumamry_df = school_grade_sumamry_df.rename(columns={\"school_name\": \"School Name\"})\n",
    "\n",
    "# Merge the school test summary DataFrame into the basic school list DataFrame.\n",
    "school_list_complete = school_list_summary_df.merge(school_grade_sumamry_df, on=\"School Name\")\n",
    "\n",
    "# Perform calculations to determine the % of students passing math, reading and both subjects based on the total school population\n",
    "school_list_complete[\"% Passing Math\"] = school_list_complete[\"math_score_summary\"]/school_list_complete[\"Total Students\"]*100\n",
    "school_list_complete[\"% Passing Reading\"] = school_list_complete[\"reading_score_summary\"]/school_list_complete[\"Total Students\"]*100\n",
    "school_list_complete[\"% Passing Both\"] = school_list_complete[\"total_score_summary\"]/school_list_complete[\"Total Students\"]*100\n",
    "\n",
    "# Rename the columns for final formatting\n",
    "school_list_complete = school_list_complete.rename(columns={\"type\": \"School Type\"})\n",
    "school_list_complete = school_list_complete.rename(columns={\"budget\": \"Total School Budget\"})\n",
    "\n",
    "# Drop the columns that were used for calculations but no longer needed for the summary\n",
    "school_list_complete = school_list_complete.drop(columns= [\"math_score_summary\", \"reading_score_summary\", \"total_score_summary\"])\n",
    "\n",
    "# Perform final formatting of the values of the summary table.\n",
    "school_list_complete[\"Total Students\"] = school_list_complete[\"Total Students\"].astype(int).map(\"{:,.0f}\".format)\n",
    "school_list_complete[\"Total School Budget\"] = school_list_complete[\"Total School Budget\"].astype(float).map(\"${:,.2f}\".format)\n",
    "school_list_complete[\"Per Student Budget\"] = school_list_complete[\"Per Student Budget\"].astype(float).map(\"${:,.2f}\".format)\n",
    "school_list_complete[\"Avg Math Score\"] = school_list_complete[\"Avg Math Score\"].astype(float).map(\"{:.2f}\".format)\n",
    "school_list_complete[\"Avg Reading Score\"] = school_list_complete[\"Avg Reading Score\"].astype(float).map(\"{:.2f}\".format)\n",
    "school_list_complete[\"% Passing Math\"] = school_list_complete[\"% Passing Math\"].astype(float).map(\"{:.2f}%\".format)\n",
    "school_list_complete[\"% Passing Reading\"] = school_list_complete[\"% Passing Reading\"].astype(float).map(\"{:.2f}%\".format)\n",
    "school_list_complete[\"% Passing Both\"] = school_list_complete[\"% Passing Both\"].astype(float).map(\"{:.2f}%\".format)\n",
    "\n",
    "# Set the School Name as the DataFrame index\n",
    "school_list_complete = school_list_complete.set_index(\"School Name\")\n",
    "\n",
    "# Display the final summary table.\n",
    "school_list_complete"
   ]
  },
  {
   "cell_type": "code",
   "execution_count": null,
   "metadata": {},
   "outputs": [],
   "source": []
  },
  {
   "cell_type": "code",
   "execution_count": null,
   "metadata": {},
   "outputs": [],
   "source": []
  },
  {
   "cell_type": "code",
   "execution_count": null,
   "metadata": {},
   "outputs": [],
   "source": []
  },
  {
   "cell_type": "code",
   "execution_count": null,
   "metadata": {},
   "outputs": [],
   "source": [
    "school_data_complete.dtypes"
   ]
  },
  {
   "cell_type": "code",
   "execution_count": null,
   "metadata": {},
   "outputs": [],
   "source": []
  },
  {
   "cell_type": "code",
   "execution_count": null,
   "metadata": {},
   "outputs": [],
   "source": []
  },
  {
   "cell_type": "code",
   "execution_count": null,
   "metadata": {},
   "outputs": [],
   "source": []
  },
  {
   "cell_type": "code",
   "execution_count": null,
   "metadata": {},
   "outputs": [],
   "source": []
  },
  {
   "cell_type": "code",
   "execution_count": null,
   "metadata": {},
   "outputs": [],
   "source": []
  },
  {
   "cell_type": "code",
   "execution_count": null,
   "metadata": {},
   "outputs": [],
   "source": []
  },
  {
   "cell_type": "code",
   "execution_count": null,
   "metadata": {},
   "outputs": [],
   "source": []
  },
  {
   "cell_type": "markdown",
   "metadata": {},
   "source": [
    "## Top Performing Schools (By % Overall Passing)"
   ]
  },
  {
   "cell_type": "markdown",
   "metadata": {},
   "source": [
    "* Sort and display the top five performing schools by % overall passing."
   ]
  },
  {
   "cell_type": "code",
   "execution_count": null,
   "metadata": {
    "scrolled": true
   },
   "outputs": [],
   "source": []
  },
  {
   "cell_type": "markdown",
   "metadata": {},
   "source": [
    "## Bottom Performing Schools (By % Overall Passing)"
   ]
  },
  {
   "cell_type": "markdown",
   "metadata": {},
   "source": [
    "* Sort and display the five worst-performing schools by % overall passing."
   ]
  },
  {
   "cell_type": "code",
   "execution_count": null,
   "metadata": {},
   "outputs": [],
   "source": []
  },
  {
   "cell_type": "markdown",
   "metadata": {},
   "source": [
    "## Math Scores by Grade"
   ]
  },
  {
   "cell_type": "markdown",
   "metadata": {},
   "source": [
    "* Create a table that lists the average Reading Score for students of each grade level (9th, 10th, 11th, 12th) at each school.\n",
    "\n",
    "  * Create a pandas series for each grade. Hint: use a conditional statement.\n",
    "  \n",
    "  * Group each series by school\n",
    "  \n",
    "  * Combine the series into a dataframe\n",
    "  \n",
    "  * Optional: give the displayed data cleaner formatting"
   ]
  },
  {
   "cell_type": "code",
   "execution_count": null,
   "metadata": {},
   "outputs": [],
   "source": []
  },
  {
   "cell_type": "markdown",
   "metadata": {},
   "source": [
    "## Reading Score by Grade "
   ]
  },
  {
   "cell_type": "markdown",
   "metadata": {},
   "source": [
    "* Perform the same operations as above for reading scores"
   ]
  },
  {
   "cell_type": "code",
   "execution_count": null,
   "metadata": {},
   "outputs": [],
   "source": []
  },
  {
   "cell_type": "markdown",
   "metadata": {},
   "source": [
    "## Scores by School Spending"
   ]
  },
  {
   "cell_type": "markdown",
   "metadata": {},
   "source": [
    "* Create a table that breaks down school performances based on average Spending Ranges (Per Student). Use 4 reasonable bins to group school spending. Include in the table each of the following:\n",
    "  * Average Math Score\n",
    "  * Average Reading Score\n",
    "  * % Passing Math\n",
    "  * % Passing Reading\n",
    "  * Overall Passing Rate (Average of the above two)"
   ]
  },
  {
   "cell_type": "code",
   "execution_count": null,
   "metadata": {},
   "outputs": [],
   "source": []
  },
  {
   "cell_type": "markdown",
   "metadata": {},
   "source": [
    "## Scores by School Size"
   ]
  },
  {
   "cell_type": "markdown",
   "metadata": {},
   "source": [
    "* Perform the same operations as above, based on school size."
   ]
  },
  {
   "cell_type": "code",
   "execution_count": null,
   "metadata": {
    "scrolled": true
   },
   "outputs": [],
   "source": []
  },
  {
   "cell_type": "markdown",
   "metadata": {},
   "source": [
    "## Scores by School Type"
   ]
  },
  {
   "cell_type": "markdown",
   "metadata": {},
   "source": [
    "* Perform the same operations as above, based on school type"
   ]
  },
  {
   "cell_type": "code",
   "execution_count": null,
   "metadata": {},
   "outputs": [],
   "source": []
  },
  {
   "cell_type": "code",
   "execution_count": null,
   "metadata": {},
   "outputs": [],
   "source": []
  }
 ],
 "metadata": {
  "anaconda-cloud": {},
  "kernel_info": {
   "name": "python3"
  },
  "kernelspec": {
   "display_name": "Python 3 (ipykernel)",
   "language": "python",
   "name": "python3"
  },
  "language_info": {
   "codemirror_mode": {
    "name": "ipython",
    "version": 3
   },
   "file_extension": ".py",
   "mimetype": "text/x-python",
   "name": "python",
   "nbconvert_exporter": "python",
   "pygments_lexer": "ipython3",
   "version": "3.9.7"
  },
  "latex_envs": {
   "LaTeX_envs_menu_present": true,
   "autoclose": false,
   "autocomplete": true,
   "bibliofile": "biblio.bib",
   "cite_by": "apalike",
   "current_citInitial": 1,
   "eqLabelWithNumbers": true,
   "eqNumInitial": 1,
   "hotkeys": {
    "equation": "Ctrl-E",
    "itemize": "Ctrl-I"
   },
   "labels_anchors": false,
   "latex_user_defs": false,
   "report_style_numbering": false,
   "user_envs_cfg": false
  },
  "nteract": {
   "version": "0.8.4"
  }
 },
 "nbformat": 4,
 "nbformat_minor": 4
}
